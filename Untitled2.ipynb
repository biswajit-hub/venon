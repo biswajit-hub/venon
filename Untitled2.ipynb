{
 "cells": [
  {
   "cell_type": "code",
   "execution_count": 1,
   "metadata": {},
   "outputs": [],
   "source": [
    "import pandas as pd\n",
    "import numpy as np\n",
    "import matplotlib.pyplot as plt\n",
    "from sklearn.decomposition import PCA\n",
    "from sklearn.preprocessing import StandardScaler"
   ]
  },
  {
   "cell_type": "code",
   "execution_count": 2,
   "metadata": {},
   "outputs": [
    {
     "data": {
      "text/plain": [
       "(8041, 35)"
      ]
     },
     "execution_count": 2,
     "metadata": {},
     "output_type": "execute_result"
    }
   ],
   "source": [
    "df = pd.read_csv(\"D:\\ASTUAssignmentBasedOnPCA\\PCA_practice_dataset.csv\")\n",
    "df.head()\n",
    "x = df.to_numpy()\n",
    "x.shape"
   ]
  },
  {
   "cell_type": "code",
   "execution_count": 3,
   "metadata": {},
   "outputs": [],
   "source": [
    "scaler = StandardScaler()\n",
    "x = scaler.fit_transform(x)"
   ]
  },
  {
   "cell_type": "code",
   "execution_count": 6,
   "metadata": {},
   "outputs": [
    {
     "name": "stdout",
     "output_type": "stream",
     "text": [
      "Components required for  90 % threshold are: 2\n",
      "Components required for  91 % threshold are: 2\n",
      "Components required for  92 % threshold are: 3\n",
      "Components required for  93 % threshold are: 3\n",
      "Components required for  94 % threshold are: 4\n",
      "Components required for  95 % threshold are: 4\n",
      "Components required for  96 % threshold are: 5\n",
      "Components required for  97 % threshold are: 6\n"
     ]
    }
   ],
   "source": [
    "pca = PCA()\n",
    "x = pca.fit_transform(x)\n",
    "cumalitive_varience = np.cumsum(pca.explained_variance_ratio_)*100\n",
    "thresholds = [i for i in range(90,97+1,1)]\n",
    "components=[np.argmax(cumalitive_varience>threshold)for threshold in thresholds]\n",
    "for component, threshold in zip(components,thresholds):\n",
    "    print(\"Components required for \",threshold,\"% threshold are:\",component)"
   ]
  },
  {
   "cell_type": "code",
   "execution_count": 11,
   "metadata": {},
   "outputs": [
    {
     "data": {
      "text/plain": [
       "<function matplotlib.pyplot.show(*args, **kw)>"
      ]
     },
     "execution_count": 11,
     "metadata": {},
     "output_type": "execute_result"
    },
    {
     "data": {
      "image/png": "[encoded data removed]",
      "text/plain": [
       "<Figure size 432x288 with 1 Axes>"
      ]
     },
     "metadata": {
      "needs_background": "light"
     },
     "output_type": "display_data"
    }
   ],
   "source": [
    "plt.plot(components, range(90,97+1,1),'ro-',linewidth=2)\n",
    "plt.title('Scree Plot')\n",
    "plt.xlabel('Principal Component')\n",
    "plt.ylabel('Threshold in %')\n",
    "plt.show"
   ]
  },
  {
   "cell_type": "code",
   "execution_count": 10,
   "metadata": {},
   "outputs": [
    {
     "name": "stdout",
     "output_type": "stream",
     "text": [
      "Performing dimensionality reduction to retain  90 % threshosd\n",
      "new shape of data after reduction of dimension is  (8041, 2) \n",
      "\n",
      "Performing dimensionality reduction to retain  91 % threshosd\n",
      "new shape of data after reduction of dimension is  (8041, 2) \n",
      "\n",
      "Performing dimensionality reduction to retain  92 % threshosd\n",
      "new shape of data after reduction of dimension is  (8041, 3) \n",
      "\n",
      "Performing dimensionality reduction to retain  93 % threshosd\n",
      "new shape of data after reduction of dimension is  (8041, 3) \n",
      "\n",
      "Performing dimensionality reduction to retain  94 % threshosd\n",
      "new shape of data after reduction of dimension is  (8041, 4) \n",
      "\n",
      "Performing dimensionality reduction to retain  95 % threshosd\n",
      "new shape of data after reduction of dimension is  (8041, 4) \n",
      "\n",
      "Performing dimensionality reduction to retain  96 % threshosd\n",
      "new shape of data after reduction of dimension is  (8041, 5) \n",
      "\n",
      "Performing dimensionality reduction to retain  97 % threshosd\n",
      "new shape of data after reduction of dimension is  (8041, 6) \n",
      "\n"
     ]
    }
   ],
   "source": [
    "x_org = x\n",
    "for component,var in zip(components,thresholds):\n",
    "    pca = PCA(n_components = component)\n",
    "    x_transformed = pca.fit_transform(x_org)\n",
    "    print('Performing dimensionality reduction to retain ',var,'% threshosd')\n",
    "    print('new shape of data after reduction of dimension is ',x_transformed.shape,'\\n')"
   ]
  }
 ],
 "metadata": {
  "kernelspec": {
   "display_name": "Python 3",
   "language": "python",
   "name": "python3"
  },
  "language_info": {
   "codemirror_mode": {
    "name": "ipython",
    "version": 3
   },
   "file_extension": ".py",
   "mimetype": "text/x-python",
   "name": "python",
   "nbconvert_exporter": "python",
   "pygments_lexer": "ipython3",
   "version": "3.6.5"
  }
 },
 "nbformat": 4,
 "nbformat_minor": 2
}
